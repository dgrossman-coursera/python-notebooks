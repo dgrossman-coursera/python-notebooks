{
 "cells": [
  {
   "cell_type": "markdown",
   "metadata": {},
   "source": [
    "### Imports and Setting Configs"
   ]
  },
  {
   "cell_type": "code",
   "execution_count": 244,
   "metadata": {},
   "outputs": [],
   "source": [
    "import pandas as pd\n",
    "import urllib.parse\n",
    "from collections import defaultdict\n",
    "from IPython.display import display, HTML\n",
    "import log_analysis as LA\n",
    "\n",
    "from importlib import reload\n",
    "\n",
    "pd.set_option('display.max_columns', None)\n",
    "\n",
    "# CSS = \"\"\"\n",
    "# .output {\n",
    "#     flex-direction: row;\n",
    "# }\n",
    "# \"\"\"\n",
    "\n",
    "# HTML('<style>{}</style>'.format(CSS))"
   ]
  },
  {
   "cell_type": "markdown",
   "metadata": {},
   "source": [
    "### Loading the Dataset\n",
    "- 7 Days of Data from Sumologic: `_sourceCategory=prod_courservice_access \"feedback.v1\"`\n",
    "- Sample rate of 0.1"
   ]
  },
  {
   "cell_type": "code",
   "execution_count": 187,
   "metadata": {},
   "outputs": [
    {
     "data": {
      "text/html": [
       "<div>\n",
       "<style scoped>\n",
       "    .dataframe tbody tr th:only-of-type {\n",
       "        vertical-align: middle;\n",
       "    }\n",
       "\n",
       "    .dataframe tbody tr th {\n",
       "        vertical-align: top;\n",
       "    }\n",
       "\n",
       "    .dataframe thead th {\n",
       "        text-align: right;\n",
       "    }\n",
       "</style>\n",
       "<table border=\"1\" class=\"dataframe\">\n",
       "  <thead>\n",
       "    <tr style=\"text-align: right;\">\n",
       "      <th></th>\n",
       "      <th>_messagetimems</th>\n",
       "      <th>_messagetime</th>\n",
       "      <th>code</th>\n",
       "      <th>duration</th>\n",
       "      <th>fromservicename</th>\n",
       "      <th>method</th>\n",
       "      <th>toplevelresource</th>\n",
       "      <th>actionname</th>\n",
       "      <th>courserasource</th>\n",
       "      <th>findername</th>\n",
       "      <th>ipsrc</th>\n",
       "      <th>requestid</th>\n",
       "      <th>responsebodylength</th>\n",
       "      <th>_size</th>\n",
       "      <th>_sourcehost</th>\n",
       "      <th>url</th>\n",
       "      <th>userid</th>\n",
       "    </tr>\n",
       "  </thead>\n",
       "  <tbody>\n",
       "    <tr>\n",
       "      <th>0</th>\n",
       "      <td>1529088264428</td>\n",
       "      <td>06/15/2018 11:44:24.428 -0700</td>\n",
       "      <td>200</td>\n",
       "      <td>17</td>\n",
       "      <td>-</td>\n",
       "      <td>GET</td>\n",
       "      <td>feedback.v1</td>\n",
       "      <td>NaN</td>\n",
       "      <td>-</td>\n",
       "      <td>course</td>\n",
       "      <td>34.227.148.239</td>\n",
       "      <td>HvrEPnDMEeiVcQ7s3Ns7fg</td>\n",
       "      <td>1945</td>\n",
       "      <td>486</td>\n",
       "      <td>ip-10-1-26-108</td>\n",
       "      <td>www.coursera.org/api/feedback.v1?courseId=yOZE...</td>\n",
       "      <td>26216411</td>\n",
       "    </tr>\n",
       "    <tr>\n",
       "      <th>1</th>\n",
       "      <td>1529088256562</td>\n",
       "      <td>06/15/2018 11:44:16.562 -0700</td>\n",
       "      <td>403</td>\n",
       "      <td>5</td>\n",
       "      <td>-</td>\n",
       "      <td>GET</td>\n",
       "      <td>feedback.v1</td>\n",
       "      <td>NaN</td>\n",
       "      <td>-</td>\n",
       "      <td>course</td>\n",
       "      <td>54.227.153.99</td>\n",
       "      <td>GpqeqnDMEeiA1w7A_uReMA</td>\n",
       "      <td>123</td>\n",
       "      <td>482</td>\n",
       "      <td>ip-10-1-26-108</td>\n",
       "      <td>www.coursera.org/api/feedback.v1?courseId=3Nog...</td>\n",
       "      <td>22227164</td>\n",
       "    </tr>\n",
       "    <tr>\n",
       "      <th>2</th>\n",
       "      <td>1529088243164</td>\n",
       "      <td>06/15/2018 11:44:03.164 -0700</td>\n",
       "      <td>200</td>\n",
       "      <td>28</td>\n",
       "      <td>-</td>\n",
       "      <td>GET</td>\n",
       "      <td>feedback.v1</td>\n",
       "      <td>NaN</td>\n",
       "      <td>-</td>\n",
       "      <td>course</td>\n",
       "      <td>54.166.131.175</td>\n",
       "      <td>EqQyRnDMEeiD4xIPKc1ZHg</td>\n",
       "      <td>2454</td>\n",
       "      <td>457</td>\n",
       "      <td>ip-10-1-30-198</td>\n",
       "      <td>www.coursera.org/api/feedback.v1?courseId=1RBl...</td>\n",
       "      <td>16409906</td>\n",
       "    </tr>\n",
       "    <tr>\n",
       "      <th>3</th>\n",
       "      <td>1529088220712</td>\n",
       "      <td>06/15/2018 11:43:40.712 -0700</td>\n",
       "      <td>403</td>\n",
       "      <td>1</td>\n",
       "      <td>-</td>\n",
       "      <td>GET</td>\n",
       "      <td>feedback.v1</td>\n",
       "      <td>NaN</td>\n",
       "      <td>-</td>\n",
       "      <td>course</td>\n",
       "      <td>54.166.131.175</td>\n",
       "      <td>BVenp3DMEeiMpgotq0wepg</td>\n",
       "      <td>129</td>\n",
       "      <td>473</td>\n",
       "      <td>ip-10-1-1-188</td>\n",
       "      <td>www.coursera.org/api/feedback.v1?courseId=2iD7...</td>\n",
       "      <td>-</td>\n",
       "    </tr>\n",
       "    <tr>\n",
       "      <th>4</th>\n",
       "      <td>1529088219942</td>\n",
       "      <td>06/15/2018 11:43:39.942 -0700</td>\n",
       "      <td>403</td>\n",
       "      <td>5</td>\n",
       "      <td>-</td>\n",
       "      <td>GET</td>\n",
       "      <td>feedback.v1</td>\n",
       "      <td>NaN</td>\n",
       "      <td>-</td>\n",
       "      <td>course</td>\n",
       "      <td>18.206.95.50</td>\n",
       "      <td>BOG0enDMEei2chJ5pbpoVA</td>\n",
       "      <td>122</td>\n",
       "      <td>481</td>\n",
       "      <td>ip-10-1-27-164</td>\n",
       "      <td>www.coursera.org/api/feedback.v1?courseId=FXS0...</td>\n",
       "      <td>5162615</td>\n",
       "    </tr>\n",
       "  </tbody>\n",
       "</table>\n",
       "</div>"
      ],
      "text/plain": [
       "   _messagetimems                   _messagetime  code  duration  \\\n",
       "0   1529088264428  06/15/2018 11:44:24.428 -0700   200        17   \n",
       "1   1529088256562  06/15/2018 11:44:16.562 -0700   403         5   \n",
       "2   1529088243164  06/15/2018 11:44:03.164 -0700   200        28   \n",
       "3   1529088220712  06/15/2018 11:43:40.712 -0700   403         1   \n",
       "4   1529088219942  06/15/2018 11:43:39.942 -0700   403         5   \n",
       "\n",
       "  fromservicename method toplevelresource  actionname courserasource  \\\n",
       "0               -    GET      feedback.v1         NaN              -   \n",
       "1               -    GET      feedback.v1         NaN              -   \n",
       "2               -    GET      feedback.v1         NaN              -   \n",
       "3               -    GET      feedback.v1         NaN              -   \n",
       "4               -    GET      feedback.v1         NaN              -   \n",
       "\n",
       "  findername           ipsrc               requestid  responsebodylength  \\\n",
       "0     course  34.227.148.239  HvrEPnDMEeiVcQ7s3Ns7fg                1945   \n",
       "1     course   54.227.153.99  GpqeqnDMEeiA1w7A_uReMA                 123   \n",
       "2     course  54.166.131.175  EqQyRnDMEeiD4xIPKc1ZHg                2454   \n",
       "3     course  54.166.131.175  BVenp3DMEeiMpgotq0wepg                 129   \n",
       "4     course    18.206.95.50  BOG0enDMEei2chJ5pbpoVA                 122   \n",
       "\n",
       "   _size     _sourcehost                                                url  \\\n",
       "0    486  ip-10-1-26-108  www.coursera.org/api/feedback.v1?courseId=yOZE...   \n",
       "1    482  ip-10-1-26-108  www.coursera.org/api/feedback.v1?courseId=3Nog...   \n",
       "2    457  ip-10-1-30-198  www.coursera.org/api/feedback.v1?courseId=1RBl...   \n",
       "3    473   ip-10-1-1-188  www.coursera.org/api/feedback.v1?courseId=2iD7...   \n",
       "4    481  ip-10-1-27-164  www.coursera.org/api/feedback.v1?courseId=FXS0...   \n",
       "\n",
       "     userid  \n",
       "0  26216411  \n",
       "1  22227164  \n",
       "2  16409906  \n",
       "3         -  \n",
       "4   5162615  "
      ]
     },
     "execution_count": 187,
     "metadata": {},
     "output_type": "execute_result"
    }
   ],
   "source": [
    "df = pd.read_csv(\"feedback-logs.csv\")\n",
    "df = df.drop(['_collector', 'ipforwarded', 'parentspanid', '_source', '_sourcecategory', '_sourcename', 'spanid', 'timestamp', 'traceid', 'traceidhex', '_raw'], axis=1)\n",
    "df.head()"
   ]
  },
  {
   "cell_type": "markdown",
   "metadata": {},
   "source": [
    "### Dataset Cleaning"
   ]
  },
  {
   "cell_type": "markdown",
   "metadata": {},
   "source": [
    "#### Creating columns for each query"
   ]
  },
  {
   "cell_type": "code",
   "execution_count": 247,
   "metadata": {},
   "outputs": [],
   "source": [
    "def get_request_query(request: str) -> dict:\n",
    "    messy_queries = urllib.parse.parse_qs(urllib.parse.urlsplit(request).query)\n",
    "    return {k : v[0] for k, v in messy_queries.items()}\n",
    "\n",
    "def get_query_dataframe(urls):\n",
    "    queries = urls.apply(get_request_query)\n",
    "    \n",
    "    # Create a set of keys throughout all queries\n",
    "    unique_keys = set()\n",
    "    for query in queries:\n",
    "        unique_keys.update(query.keys())\n",
    "    \n",
    "    # Create a dict of columns. Use an empty string if key isn't in the query\n",
    "    column_index = dict(enumerate(unique_keys))\n",
    "    new_query_data = defaultdict(list)\n",
    "    for query in queries:\n",
    "        for i, column_name in column_index.items():\n",
    "            if column_name in query:\n",
    "                new_query_data[column_name].append(query[column_name])\n",
    "            else:\n",
    "                new_query_data[column_name].append(None)\n",
    "    return pd.DataFrame(new_query_data)\n",
    "    "
   ]
  },
  {
   "cell_type": "code",
   "execution_count": 248,
   "metadata": {},
   "outputs": [
    {
     "data": {
      "text/html": [
       "<div>\n",
       "<style scoped>\n",
       "    .dataframe tbody tr th:only-of-type {\n",
       "        vertical-align: middle;\n",
       "    }\n",
       "\n",
       "    .dataframe tbody tr th {\n",
       "        vertical-align: top;\n",
       "    }\n",
       "\n",
       "    .dataframe thead th {\n",
       "        text-align: right;\n",
       "    }\n",
       "</style>\n",
       "<table border=\"1\" class=\"dataframe\">\n",
       "  <thead>\n",
       "    <tr style=\"text-align: right;\">\n",
       "      <th></th>\n",
       "      <th>includes</th>\n",
       "      <th>ratingValues</th>\n",
       "      <th>q</th>\n",
       "      <th>courseId</th>\n",
       "      <th>categories</th>\n",
       "      <th>courseCompleted</th>\n",
       "      <th>courseBranchId</th>\n",
       "      <th>feedbackSystem</th>\n",
       "      <th>itemId</th>\n",
       "      <th>start</th>\n",
       "      <th>limit</th>\n",
       "      <th>fields</th>\n",
       "      <th>page</th>\n",
       "    </tr>\n",
       "  </thead>\n",
       "  <tbody>\n",
       "    <tr>\n",
       "      <th>0</th>\n",
       "      <td>onDemandCourseMaterials.v2(modules)</td>\n",
       "      <td>4,5</td>\n",
       "      <td>course</td>\n",
       "      <td>yOZEQ3lwEeWb-BLhFdaGww</td>\n",
       "      <td>generic</td>\n",
       "      <td>None</td>\n",
       "      <td>None</td>\n",
       "      <td>STAR</td>\n",
       "      <td>None</td>\n",
       "      <td>0</td>\n",
       "      <td>4</td>\n",
       "      <td>onDemandCourseMaterials.v2(moduleIds,modules)</td>\n",
       "      <td>None</td>\n",
       "    </tr>\n",
       "    <tr>\n",
       "      <th>1</th>\n",
       "      <td>onDemandCourseMaterials.v2(modules)</td>\n",
       "      <td>4,5</td>\n",
       "      <td>course</td>\n",
       "      <td>3NogQ11pEeWJEg4Ftlh5hw</td>\n",
       "      <td>generic</td>\n",
       "      <td>None</td>\n",
       "      <td>None</td>\n",
       "      <td>STAR</td>\n",
       "      <td>None</td>\n",
       "      <td>0</td>\n",
       "      <td>4</td>\n",
       "      <td>onDemandCourseMaterials.v2(moduleIds,modules)</td>\n",
       "      <td>None</td>\n",
       "    </tr>\n",
       "    <tr>\n",
       "      <th>2</th>\n",
       "      <td>users</td>\n",
       "      <td>4,5</td>\n",
       "      <td>course</td>\n",
       "      <td>1RBlaf9AEea_bxJuN8v34g</td>\n",
       "      <td>generic</td>\n",
       "      <td>None</td>\n",
       "      <td>None</td>\n",
       "      <td>STAR</td>\n",
       "      <td>None</td>\n",
       "      <td>0</td>\n",
       "      <td>4</td>\n",
       "      <td>users,userPublicProfiles.v1(fullName,photoUrl)</td>\n",
       "      <td>None</td>\n",
       "    </tr>\n",
       "    <tr>\n",
       "      <th>3</th>\n",
       "      <td>onDemandCourseMaterials.v2(modules)</td>\n",
       "      <td>4,5</td>\n",
       "      <td>course</td>\n",
       "      <td>2iD7dxkvEeW9dA4X94-nLQ</td>\n",
       "      <td>generic</td>\n",
       "      <td>None</td>\n",
       "      <td>None</td>\n",
       "      <td>STAR</td>\n",
       "      <td>None</td>\n",
       "      <td>0</td>\n",
       "      <td>4</td>\n",
       "      <td>onDemandCourseMaterials.v2(moduleIds,modules)</td>\n",
       "      <td>None</td>\n",
       "    </tr>\n",
       "    <tr>\n",
       "      <th>4</th>\n",
       "      <td>onDemandCourseMaterials.v2(modules)</td>\n",
       "      <td>4,5</td>\n",
       "      <td>course</td>\n",
       "      <td>FXS00V1oEeWK1woL5P9cGQ</td>\n",
       "      <td>generic</td>\n",
       "      <td>None</td>\n",
       "      <td>None</td>\n",
       "      <td>STAR</td>\n",
       "      <td>None</td>\n",
       "      <td>0</td>\n",
       "      <td>4</td>\n",
       "      <td>onDemandCourseMaterials.v2(moduleIds,modules)</td>\n",
       "      <td>None</td>\n",
       "    </tr>\n",
       "  </tbody>\n",
       "</table>\n",
       "</div>"
      ],
      "text/plain": [
       "                              includes ratingValues       q  \\\n",
       "0  onDemandCourseMaterials.v2(modules)          4,5  course   \n",
       "1  onDemandCourseMaterials.v2(modules)          4,5  course   \n",
       "2                                users          4,5  course   \n",
       "3  onDemandCourseMaterials.v2(modules)          4,5  course   \n",
       "4  onDemandCourseMaterials.v2(modules)          4,5  course   \n",
       "\n",
       "                 courseId categories courseCompleted courseBranchId  \\\n",
       "0  yOZEQ3lwEeWb-BLhFdaGww    generic            None           None   \n",
       "1  3NogQ11pEeWJEg4Ftlh5hw    generic            None           None   \n",
       "2  1RBlaf9AEea_bxJuN8v34g    generic            None           None   \n",
       "3  2iD7dxkvEeW9dA4X94-nLQ    generic            None           None   \n",
       "4  FXS00V1oEeWK1woL5P9cGQ    generic            None           None   \n",
       "\n",
       "  feedbackSystem itemId start limit  \\\n",
       "0           STAR   None     0     4   \n",
       "1           STAR   None     0     4   \n",
       "2           STAR   None     0     4   \n",
       "3           STAR   None     0     4   \n",
       "4           STAR   None     0     4   \n",
       "\n",
       "                                           fields  page  \n",
       "0   onDemandCourseMaterials.v2(moduleIds,modules)  None  \n",
       "1   onDemandCourseMaterials.v2(moduleIds,modules)  None  \n",
       "2  users,userPublicProfiles.v1(fullName,photoUrl)  None  \n",
       "3   onDemandCourseMaterials.v2(moduleIds,modules)  None  \n",
       "4   onDemandCourseMaterials.v2(moduleIds,modules)  None  "
      ]
     },
     "execution_count": 248,
     "metadata": {},
     "output_type": "execute_result"
    }
   ],
   "source": [
    "query_df = get_query_dataframe(df.url)\n",
    "query_df.head()"
   ]
  },
  {
   "cell_type": "markdown",
   "metadata": {},
   "source": [
    "#### Added columns to main dataframe"
   ]
  },
  {
   "cell_type": "code",
   "execution_count": 190,
   "metadata": {},
   "outputs": [],
   "source": [
    "df = df.join(query_df,how='outer')"
   ]
  },
  {
   "cell_type": "markdown",
   "metadata": {},
   "source": [
    "#### Dataset Size"
   ]
  },
  {
   "cell_type": "code",
   "execution_count": 191,
   "metadata": {},
   "outputs": [
    {
     "data": {
      "text/plain": [
       "88756"
      ]
     },
     "execution_count": 191,
     "metadata": {},
     "output_type": "execute_result"
    }
   ],
   "source": [
    "len(df)"
   ]
  },
  {
   "cell_type": "markdown",
   "metadata": {},
   "source": [
    "#### Example URL"
   ]
  },
  {
   "cell_type": "code",
   "execution_count": 192,
   "metadata": {},
   "outputs": [
    {
     "data": {
      "text/plain": [
       "'www.coursera.org/api/feedback.v1?courseId=yOZEQ3lwEeWb-BLhFdaGww&ratingValues=4%2C5&q=course&fields=onDemandCourseMaterials.v2%28moduleIds%2Cmodules%29&categories=generic&start=0&feedbackSystem=STAR&includes=onDemandCourseMaterials.v2%28modules%29&limit=4'"
      ]
     },
     "execution_count": 192,
     "metadata": {},
     "output_type": "execute_result"
    }
   ],
   "source": [
    "df.url[0]"
   ]
  },
  {
   "cell_type": "markdown",
   "metadata": {},
   "source": [
    "## Body Response Lengths\n",
    "#### _A good proxy for unique responses_\n",
    "\n",
    "Note that of the top 5 lengths by frequency, 4 of those lengths are all _403_ responses"
   ]
  },
  {
   "cell_type": "code",
   "execution_count": 193,
   "metadata": {},
   "outputs": [
    {
     "name": "stdout",
     "output_type": "stream",
     "text": [
      "Response Length for all requests\n",
      "129    33290\n",
      "123    15814\n",
      "122     4089\n",
      "74       688\n",
      "121      592\n",
      "Name: responsebodylength, dtype: int64\n",
      "\n",
      "Response Length for 403 requests\n",
      "129    33290\n",
      "123    15814\n",
      "122     4089\n",
      "121      592\n",
      "120       99\n",
      "Name: responsebodylength, dtype: int64\n"
     ]
    }
   ],
   "source": [
    "# display_side_by_side(\"Frequency of Response Body Lengths:\", \"403 Response Body Lengths:\")\n",
    "\n",
    "print(\"Response Length for all requests\\n\", df.responsebodylength.value_counts()[:5], sep=\"\")\n",
    "print()\n",
    "print(\"Response Length for 403 requests\\n\", df[df.code == 403].responsebodylength.value_counts()[:5], sep=\"\")\n"
   ]
  },
  {
   "cell_type": "markdown",
   "metadata": {},
   "source": [
    "### Latencies 👍"
   ]
  },
  {
   "cell_type": "code",
   "execution_count": 194,
   "metadata": {},
   "outputs": [
    {
     "name": "stdout",
     "output_type": "stream",
     "text": [
      "0.50 percentile: 7.0 ms\n",
      "0.95 percentile: 252.0 ms\n",
      "0.99 percentile: 63.0 ms\n"
     ]
    }
   ],
   "source": [
    "print(\"0.50 percentile:\", df.duration.quantile(q=.5), \"ms\")\n",
    "print(\"0.95 percentile:\", df.duration.quantile(q=.95), \"ms\")\n",
    "print(\"0.99 percentile:\", df.duration.quantile(q=.9), \"ms\")"
   ]
  },
  {
   "cell_type": "markdown",
   "metadata": {},
   "source": [
    "### HTTP Response Codes\n",
    "_The large majority of responses are 403 Forbidden responses_"
   ]
  },
  {
   "cell_type": "code",
   "execution_count": 195,
   "metadata": {},
   "outputs": [
    {
     "name": "stdout",
     "output_type": "stream",
     "text": [
      "Response Codes\n",
      "403    53898\n",
      "200    34555\n",
      "504      257\n",
      "401       20\n",
      "405       16\n",
      "400        7\n",
      "500        3\n",
      "Name: code, dtype: int64\n",
      "\n",
      "\n",
      "Fraction of responses that are error codes: 0.6072603542295733\n"
     ]
    }
   ],
   "source": [
    "response_code_frequencies = df.code.value_counts()\n",
    "print(\"Response Codes\\n\", response_code_frequencies, sep=\"\")\n",
    "print(\"\\n\")\n",
    "print(\"Fraction of responses that are error codes:\", response_code_frequencies[403] / response_code_frequencies.sum())"
   ]
  },
  {
   "cell_type": "markdown",
   "metadata": {},
   "source": [
    "## Parsing Data on The HTTP Request"
   ]
  },
  {
   "cell_type": "markdown",
   "metadata": {},
   "source": [
    "### Most requests are coming from 25 \"URLs\". But most of them are 403s"
   ]
  },
  {
   "cell_type": "code",
   "execution_count": 196,
   "metadata": {},
   "outputs": [],
   "source": [
    "df200 = df[df.code == 200]\n",
    "df403 = df[df.code == 403]"
   ]
  },
  {
   "cell_type": "code",
   "execution_count": 197,
   "metadata": {},
   "outputs": [
    {
     "name": "stdout",
     "output_type": "stream",
     "text": [
      "Top 15 Total Request Frequencies: 42131\n",
      "\n",
      "Top 15 Requests:     [5733, 5282, 4273, 3218, 2815, 2751, 2358, 2349, 2336, 2307, 2252, 1918, 1540, 1527, 1472]\n",
      "Top 15 403 Requests: [5733, 5282, 4273, 3218, 2815, 2751, 2358, 2349, 2336, 2307, 2252, 1918, 1540, 1472, 1396]\n"
     ]
    }
   ],
   "source": [
    "request_frequencies = list(df.url.value_counts()[:15])\n",
    "request_frequencies403 = list(df403.url.value_counts()[:15])\n",
    "print(\"Top 15 Total Request Frequencies:\", sum(request_frequencies))\n",
    "print()\n",
    "print(\"{0: <20}\".format(\"Top 15 Requests:\"), request_frequencies)\n",
    "print(\"{0: <20}\".format(\"Top 15 403 Requests:\"), str(request_frequencies403))"
   ]
  },
  {
   "cell_type": "markdown",
   "metadata": {},
   "source": [
    "## `feedback.v1` Queries"
   ]
  },
  {
   "cell_type": "markdown",
   "metadata": {},
   "source": [
    "### `courseId` Quick look"
   ]
  },
  {
   "cell_type": "markdown",
   "metadata": {},
   "source": [
    "### The most commonly requested courseIds are to the same group of classes. \n",
    "_There are only 64 courses for which people looked for reviews_"
   ]
  },
  {
   "cell_type": "code",
   "execution_count": 198,
   "metadata": {},
   "outputs": [
    {
     "data": {
      "text/plain": [
       "<module 'log_analysis' from '/Users/dgrossman/python-notebooks/log_analysis.py'>"
      ]
     },
     "execution_count": 198,
     "metadata": {},
     "output_type": "execute_result"
    }
   ],
   "source": [
    "reload(LA)"
   ]
  },
  {
   "cell_type": "code",
   "execution_count": 199,
   "metadata": {},
   "outputs": [
    {
     "name": "stdout",
     "output_type": "stream",
     "text": [
      "Number of unique course ids:  64\n"
     ]
    }
   ],
   "source": [
    "num_requests_by_course_id = df.courseId.value_counts()\n",
    "print(\"{0: <25}\".format(\"Number of unique course ids: \"), len(num_requests_by_course_id200.keys()))"
   ]
  },
  {
   "cell_type": "markdown",
   "metadata": {},
   "source": [
    "### `feedbackSystem` Quick look"
   ]
  },
  {
   "cell_type": "code",
   "execution_count": 200,
   "metadata": {},
   "outputs": [
    {
     "name": "stdout",
     "output_type": "stream",
     "text": [
      "NUMBER OF REQESTS BY FEEDBACK SYSTEM - OVERALL\n",
      "STAR                 88670\n",
      "FLAG                    78\n",
      "LIKE_OR_DISLIKE          3\n",
      "* STAR                   2\n",
      "* LIKE_OR_DISLIKE        2\n",
      "Name: feedbackSystem, dtype: int64 \n",
      "\n",
      "\n",
      "NUMBER OF REQESTS BY FEEDBACK SYSTEM - 200\n",
      "STAR               34496\n",
      "FLAG                  58\n",
      "LIKE_OR_DISLIKE        1\n",
      "Name: feedbackSystem, dtype: int64\n"
     ]
    }
   ],
   "source": [
    "num_requests_by_feedback_system = df.feedbackSystem.value_counts()\n",
    "num_requests_by_feedback_system200 = df200.feedbackSystem.value_counts()\n",
    "print(\"NUMBER OF REQESTS BY FEEDBACK SYSTEM - OVERALL\")\n",
    "print(num_requests_by_feedback_system, '\\n\\n')\n",
    "print(\"NUMBER OF REQESTS BY FEEDBACK SYSTEM - 200\")\n",
    "print(num_requests_by_feedback_system200)"
   ]
  },
  {
   "cell_type": "markdown",
   "metadata": {},
   "source": [
    "... I think I was  the `LIKE_OR_DISLIKE` Query"
   ]
  },
  {
   "cell_type": "markdown",
   "metadata": {},
   "source": [
    "### `categories` Quick look"
   ]
  },
  {
   "cell_type": "code",
   "execution_count": 201,
   "metadata": {},
   "outputs": [
    {
     "name": "stdout",
     "output_type": "stream",
     "text": [
      "NUMBER OF REQESTS BY CATEGORIES - OVERALL\n",
      "generic      88669\n",
      "content         30\n",
      "offensive       25\n",
      "grading         13\n",
      "subtitle         8\n",
      "technical        1\n",
      "audio            1\n",
      "Name: categories, dtype: int64 \n",
      "\n",
      "\n",
      "NUMBER OF REQESTS BY CATEGORIES - 200\n",
      "generic      34496\n",
      "content         23\n",
      "offensive       18\n",
      "grading         10\n",
      "subtitle         5\n",
      "technical        1\n",
      "audio            1\n",
      "Name: categories, dtype: int64\n"
     ]
    }
   ],
   "source": [
    "num_requests_by_feedback_system = df.categories.value_counts()\n",
    "num_requests_by_feedback_system200 = df200.categories.value_counts()\n",
    "print(\"NUMBER OF REQESTS BY CATEGORIES - OVERALL\")\n",
    "print(num_requests_by_feedback_system, '\\n\\n')\n",
    "print(\"NUMBER OF REQESTS BY CATEGORIES - 200\")\n",
    "print(num_requests_by_feedback_system200)"
   ]
  },
  {
   "cell_type": "markdown",
   "metadata": {},
   "source": [
    "### `ratingValues` Quick look"
   ]
  },
  {
   "cell_type": "code",
   "execution_count": 202,
   "metadata": {},
   "outputs": [
    {
     "name": "stdout",
     "output_type": "stream",
     "text": [
      "NUMBER OF REQESTS BY RATING VALUES - OVERALL\n",
      "4,5                       87504\n",
      "1,2,3,4,5                  1068\n",
      "0                            78\n",
      "5                            26\n",
      "1                            23\n",
      "3                            19\n",
      "4                            15\n",
      "2                            15\n",
      "0,1,2,3,4,5,6,7,8,9,10        4\n",
      "dtype: int64 \n",
      "\n",
      "\n",
      "NUMBER OF REQESTS BY RATING VALUES - 200\n",
      "4,5          33544\n",
      "1,2,3,4,5      887\n",
      "0               58\n",
      "3               19\n",
      "2               14\n",
      "4               13\n",
      "1               13\n",
      "5                7\n",
      "dtype: int64\n"
     ]
    }
   ],
   "source": [
    "num_requests_by_rating_values = LA.get_queries_by_key_counts(request_queries, 'ratingValues')\n",
    "num_requests_by_rating_values200 = LA.get_queries_by_key_counts(request_queries200, 'ratingValues')\n",
    "print(\"NUMBER OF REQESTS BY RATING VALUES - OVERALL\")\n",
    "print(num_requests_by_rating_values, '\\n\\n')\n",
    "print(\"NUMBER OF REQESTS BY RATING VALUES - 200\")\n",
    "print(num_requests_by_rating_values200)"
   ]
  },
  {
   "cell_type": "code",
   "execution_count": 204,
   "metadata": {},
   "outputs": [
    {
     "data": {
      "text/html": [
       "<div>\n",
       "<style scoped>\n",
       "    .dataframe tbody tr th:only-of-type {\n",
       "        vertical-align: middle;\n",
       "    }\n",
       "\n",
       "    .dataframe tbody tr th {\n",
       "        vertical-align: top;\n",
       "    }\n",
       "\n",
       "    .dataframe thead th {\n",
       "        text-align: right;\n",
       "    }\n",
       "</style>\n",
       "<table border=\"1\" class=\"dataframe\">\n",
       "  <thead>\n",
       "    <tr style=\"text-align: right;\">\n",
       "      <th></th>\n",
       "      <th>_messagetimems</th>\n",
       "      <th>_messagetime</th>\n",
       "      <th>code</th>\n",
       "      <th>duration</th>\n",
       "      <th>fromservicename</th>\n",
       "      <th>method</th>\n",
       "      <th>toplevelresource</th>\n",
       "      <th>actionname</th>\n",
       "      <th>courserasource</th>\n",
       "      <th>findername</th>\n",
       "      <th>ipsrc</th>\n",
       "      <th>requestid</th>\n",
       "      <th>responsebodylength</th>\n",
       "      <th>_size</th>\n",
       "      <th>_sourcehost</th>\n",
       "      <th>url</th>\n",
       "      <th>userid</th>\n",
       "      <th>includes</th>\n",
       "      <th>ratingValues</th>\n",
       "      <th>q</th>\n",
       "      <th>courseId</th>\n",
       "      <th>categories</th>\n",
       "      <th>courseCompleted</th>\n",
       "      <th>courseBranchId</th>\n",
       "      <th>feedbackSystem</th>\n",
       "      <th>itemId</th>\n",
       "      <th>start</th>\n",
       "      <th>limit</th>\n",
       "      <th>fields</th>\n",
       "      <th>page</th>\n",
       "    </tr>\n",
       "  </thead>\n",
       "  <tbody>\n",
       "    <tr>\n",
       "      <th>0</th>\n",
       "      <td>1529088264428</td>\n",
       "      <td>06/15/2018 11:44:24.428 -0700</td>\n",
       "      <td>200</td>\n",
       "      <td>17</td>\n",
       "      <td>-</td>\n",
       "      <td>GET</td>\n",
       "      <td>feedback.v1</td>\n",
       "      <td>NaN</td>\n",
       "      <td>-</td>\n",
       "      <td>course</td>\n",
       "      <td>34.227.148.239</td>\n",
       "      <td>HvrEPnDMEeiVcQ7s3Ns7fg</td>\n",
       "      <td>1945</td>\n",
       "      <td>486</td>\n",
       "      <td>ip-10-1-26-108</td>\n",
       "      <td>www.coursera.org/api/feedback.v1?courseId=yOZE...</td>\n",
       "      <td>26216411</td>\n",
       "      <td>onDemandCourseMaterials.v2(modules)</td>\n",
       "      <td>4,5</td>\n",
       "      <td>course</td>\n",
       "      <td>yOZEQ3lwEeWb-BLhFdaGww</td>\n",
       "      <td>generic</td>\n",
       "      <td>None</td>\n",
       "      <td>None</td>\n",
       "      <td>STAR</td>\n",
       "      <td>None</td>\n",
       "      <td>0</td>\n",
       "      <td>4</td>\n",
       "      <td>onDemandCourseMaterials.v2(moduleIds,modules)</td>\n",
       "      <td>None</td>\n",
       "    </tr>\n",
       "    <tr>\n",
       "      <th>1</th>\n",
       "      <td>1529088256562</td>\n",
       "      <td>06/15/2018 11:44:16.562 -0700</td>\n",
       "      <td>403</td>\n",
       "      <td>5</td>\n",
       "      <td>-</td>\n",
       "      <td>GET</td>\n",
       "      <td>feedback.v1</td>\n",
       "      <td>NaN</td>\n",
       "      <td>-</td>\n",
       "      <td>course</td>\n",
       "      <td>54.227.153.99</td>\n",
       "      <td>GpqeqnDMEeiA1w7A_uReMA</td>\n",
       "      <td>123</td>\n",
       "      <td>482</td>\n",
       "      <td>ip-10-1-26-108</td>\n",
       "      <td>www.coursera.org/api/feedback.v1?courseId=3Nog...</td>\n",
       "      <td>22227164</td>\n",
       "      <td>onDemandCourseMaterials.v2(modules)</td>\n",
       "      <td>4,5</td>\n",
       "      <td>course</td>\n",
       "      <td>3NogQ11pEeWJEg4Ftlh5hw</td>\n",
       "      <td>generic</td>\n",
       "      <td>None</td>\n",
       "      <td>None</td>\n",
       "      <td>STAR</td>\n",
       "      <td>None</td>\n",
       "      <td>0</td>\n",
       "      <td>4</td>\n",
       "      <td>onDemandCourseMaterials.v2(moduleIds,modules)</td>\n",
       "      <td>None</td>\n",
       "    </tr>\n",
       "    <tr>\n",
       "      <th>2</th>\n",
       "      <td>1529088243164</td>\n",
       "      <td>06/15/2018 11:44:03.164 -0700</td>\n",
       "      <td>200</td>\n",
       "      <td>28</td>\n",
       "      <td>-</td>\n",
       "      <td>GET</td>\n",
       "      <td>feedback.v1</td>\n",
       "      <td>NaN</td>\n",
       "      <td>-</td>\n",
       "      <td>course</td>\n",
       "      <td>54.166.131.175</td>\n",
       "      <td>EqQyRnDMEeiD4xIPKc1ZHg</td>\n",
       "      <td>2454</td>\n",
       "      <td>457</td>\n",
       "      <td>ip-10-1-30-198</td>\n",
       "      <td>www.coursera.org/api/feedback.v1?courseId=1RBl...</td>\n",
       "      <td>16409906</td>\n",
       "      <td>users</td>\n",
       "      <td>4,5</td>\n",
       "      <td>course</td>\n",
       "      <td>1RBlaf9AEea_bxJuN8v34g</td>\n",
       "      <td>generic</td>\n",
       "      <td>None</td>\n",
       "      <td>None</td>\n",
       "      <td>STAR</td>\n",
       "      <td>None</td>\n",
       "      <td>0</td>\n",
       "      <td>4</td>\n",
       "      <td>users,userPublicProfiles.v1(fullName,photoUrl)</td>\n",
       "      <td>None</td>\n",
       "    </tr>\n",
       "    <tr>\n",
       "      <th>3</th>\n",
       "      <td>1529088220712</td>\n",
       "      <td>06/15/2018 11:43:40.712 -0700</td>\n",
       "      <td>403</td>\n",
       "      <td>1</td>\n",
       "      <td>-</td>\n",
       "      <td>GET</td>\n",
       "      <td>feedback.v1</td>\n",
       "      <td>NaN</td>\n",
       "      <td>-</td>\n",
       "      <td>course</td>\n",
       "      <td>54.166.131.175</td>\n",
       "      <td>BVenp3DMEeiMpgotq0wepg</td>\n",
       "      <td>129</td>\n",
       "      <td>473</td>\n",
       "      <td>ip-10-1-1-188</td>\n",
       "      <td>www.coursera.org/api/feedback.v1?courseId=2iD7...</td>\n",
       "      <td>-</td>\n",
       "      <td>onDemandCourseMaterials.v2(modules)</td>\n",
       "      <td>4,5</td>\n",
       "      <td>course</td>\n",
       "      <td>2iD7dxkvEeW9dA4X94-nLQ</td>\n",
       "      <td>generic</td>\n",
       "      <td>None</td>\n",
       "      <td>None</td>\n",
       "      <td>STAR</td>\n",
       "      <td>None</td>\n",
       "      <td>0</td>\n",
       "      <td>4</td>\n",
       "      <td>onDemandCourseMaterials.v2(moduleIds,modules)</td>\n",
       "      <td>None</td>\n",
       "    </tr>\n",
       "    <tr>\n",
       "      <th>4</th>\n",
       "      <td>1529088219942</td>\n",
       "      <td>06/15/2018 11:43:39.942 -0700</td>\n",
       "      <td>403</td>\n",
       "      <td>5</td>\n",
       "      <td>-</td>\n",
       "      <td>GET</td>\n",
       "      <td>feedback.v1</td>\n",
       "      <td>NaN</td>\n",
       "      <td>-</td>\n",
       "      <td>course</td>\n",
       "      <td>18.206.95.50</td>\n",
       "      <td>BOG0enDMEei2chJ5pbpoVA</td>\n",
       "      <td>122</td>\n",
       "      <td>481</td>\n",
       "      <td>ip-10-1-27-164</td>\n",
       "      <td>www.coursera.org/api/feedback.v1?courseId=FXS0...</td>\n",
       "      <td>5162615</td>\n",
       "      <td>onDemandCourseMaterials.v2(modules)</td>\n",
       "      <td>4,5</td>\n",
       "      <td>course</td>\n",
       "      <td>FXS00V1oEeWK1woL5P9cGQ</td>\n",
       "      <td>generic</td>\n",
       "      <td>None</td>\n",
       "      <td>None</td>\n",
       "      <td>STAR</td>\n",
       "      <td>None</td>\n",
       "      <td>0</td>\n",
       "      <td>4</td>\n",
       "      <td>onDemandCourseMaterials.v2(moduleIds,modules)</td>\n",
       "      <td>None</td>\n",
       "    </tr>\n",
       "  </tbody>\n",
       "</table>\n",
       "</div>"
      ],
      "text/plain": [
       "   _messagetimems                   _messagetime  code  duration  \\\n",
       "0   1529088264428  06/15/2018 11:44:24.428 -0700   200        17   \n",
       "1   1529088256562  06/15/2018 11:44:16.562 -0700   403         5   \n",
       "2   1529088243164  06/15/2018 11:44:03.164 -0700   200        28   \n",
       "3   1529088220712  06/15/2018 11:43:40.712 -0700   403         1   \n",
       "4   1529088219942  06/15/2018 11:43:39.942 -0700   403         5   \n",
       "\n",
       "  fromservicename method toplevelresource  actionname courserasource  \\\n",
       "0               -    GET      feedback.v1         NaN              -   \n",
       "1               -    GET      feedback.v1         NaN              -   \n",
       "2               -    GET      feedback.v1         NaN              -   \n",
       "3               -    GET      feedback.v1         NaN              -   \n",
       "4               -    GET      feedback.v1         NaN              -   \n",
       "\n",
       "  findername           ipsrc               requestid  responsebodylength  \\\n",
       "0     course  34.227.148.239  HvrEPnDMEeiVcQ7s3Ns7fg                1945   \n",
       "1     course   54.227.153.99  GpqeqnDMEeiA1w7A_uReMA                 123   \n",
       "2     course  54.166.131.175  EqQyRnDMEeiD4xIPKc1ZHg                2454   \n",
       "3     course  54.166.131.175  BVenp3DMEeiMpgotq0wepg                 129   \n",
       "4     course    18.206.95.50  BOG0enDMEei2chJ5pbpoVA                 122   \n",
       "\n",
       "   _size     _sourcehost                                                url  \\\n",
       "0    486  ip-10-1-26-108  www.coursera.org/api/feedback.v1?courseId=yOZE...   \n",
       "1    482  ip-10-1-26-108  www.coursera.org/api/feedback.v1?courseId=3Nog...   \n",
       "2    457  ip-10-1-30-198  www.coursera.org/api/feedback.v1?courseId=1RBl...   \n",
       "3    473   ip-10-1-1-188  www.coursera.org/api/feedback.v1?courseId=2iD7...   \n",
       "4    481  ip-10-1-27-164  www.coursera.org/api/feedback.v1?courseId=FXS0...   \n",
       "\n",
       "     userid                             includes ratingValues       q  \\\n",
       "0  26216411  onDemandCourseMaterials.v2(modules)          4,5  course   \n",
       "1  22227164  onDemandCourseMaterials.v2(modules)          4,5  course   \n",
       "2  16409906                                users          4,5  course   \n",
       "3         -  onDemandCourseMaterials.v2(modules)          4,5  course   \n",
       "4   5162615  onDemandCourseMaterials.v2(modules)          4,5  course   \n",
       "\n",
       "                 courseId categories courseCompleted courseBranchId  \\\n",
       "0  yOZEQ3lwEeWb-BLhFdaGww    generic            None           None   \n",
       "1  3NogQ11pEeWJEg4Ftlh5hw    generic            None           None   \n",
       "2  1RBlaf9AEea_bxJuN8v34g    generic            None           None   \n",
       "3  2iD7dxkvEeW9dA4X94-nLQ    generic            None           None   \n",
       "4  FXS00V1oEeWK1woL5P9cGQ    generic            None           None   \n",
       "\n",
       "  feedbackSystem itemId start limit  \\\n",
       "0           STAR   None     0     4   \n",
       "1           STAR   None     0     4   \n",
       "2           STAR   None     0     4   \n",
       "3           STAR   None     0     4   \n",
       "4           STAR   None     0     4   \n",
       "\n",
       "                                           fields  page  \n",
       "0   onDemandCourseMaterials.v2(moduleIds,modules)  None  \n",
       "1   onDemandCourseMaterials.v2(moduleIds,modules)  None  \n",
       "2  users,userPublicProfiles.v1(fullName,photoUrl)  None  \n",
       "3   onDemandCourseMaterials.v2(moduleIds,modules)  None  \n",
       "4   onDemandCourseMaterials.v2(moduleIds,modules)  None  "
      ]
     },
     "execution_count": 204,
     "metadata": {},
     "output_type": "execute_result"
    }
   ],
   "source": [
    "df.head()"
   ]
  },
  {
   "cell_type": "code",
   "execution_count": 241,
   "metadata": {},
   "outputs": [
    {
     "data": {
      "text/plain": [
       "4     53708\n",
       "10      190\n",
       "Name: limit, dtype: int64"
      ]
     },
     "execution_count": 241,
     "metadata": {},
     "output_type": "execute_result"
    }
   ],
   "source": [
    "df[(df.code == 403)].limit.value_counts()"
   ]
  },
  {
   "cell_type": "code",
   "execution_count": 271,
   "metadata": {},
   "outputs": [
    {
     "name": "stdout",
     "output_type": "stream",
     "text": [
      "users                                  29248\n",
      "onDemandCourseMaterials.v2(modules)     4296\n",
      "Name: includes, dtype: int64\n",
      "\n",
      "\n",
      "onDemandCourseMaterials.v2(modules)    53617\n",
      "users                                     91\n",
      "Name: includes, dtype: int64\n"
     ]
    }
   ],
   "source": [
    "print(df[df.code == 200].includes.value_counts())\n",
    "print(\"\\n\")\n",
    "print(df[df.code == 403].includes.value_counts())"
   ]
  },
  {
   "cell_type": "code",
   "execution_count": null,
   "metadata": {},
   "outputs": [],
   "source": []
  },
  {
   "cell_type": "code",
   "execution_count": null,
   "metadata": {},
   "outputs": [],
   "source": []
  }
 ],
 "metadata": {
  "kernelspec": {
   "display_name": "Python 3",
   "language": "python",
   "name": "python3"
  },
  "language_info": {
   "codemirror_mode": {
    "name": "ipython",
    "version": 3
   },
   "file_extension": ".py",
   "mimetype": "text/x-python",
   "name": "python",
   "nbconvert_exporter": "python",
   "pygments_lexer": "ipython3",
   "version": "3.6.5"
  }
 },
 "nbformat": 4,
 "nbformat_minor": 2
}
